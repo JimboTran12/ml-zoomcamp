{
 "cells": [
  {
   "cell_type": "code",
   "execution_count": 2,
   "id": "03a17a78-7d7b-49d7-9897-d26f0b39718c",
   "metadata": {},
   "outputs": [],
   "source": [
    "import pandas as pd\n",
    "import numpy as np"
   ]
  },
  {
   "cell_type": "code",
   "execution_count": 3,
   "id": "89e1c596-b1a4-4589-884d-3056e9d9f3ca",
   "metadata": {},
   "outputs": [
    {
     "data": {
      "text/plain": [
       "'2.3.2'"
      ]
     },
     "execution_count": 3,
     "metadata": {},
     "output_type": "execute_result"
    }
   ],
   "source": [
    "pd.__version__"
   ]
  },
  {
   "cell_type": "raw",
   "id": "2496b901-e7b7-45e6-8a27-2861af139d4f",
   "metadata": {},
   "source": [
    "Version is 2.3.2"
   ]
  },
  {
   "cell_type": "code",
   "execution_count": 6,
   "id": "03d6f2e3-692a-429f-b690-feb5127256f7",
   "metadata": {},
   "outputs": [],
   "source": [
    "df = pd.read_csv(\"car_fuel_efficiency.csv\")"
   ]
  },
  {
   "cell_type": "code",
   "execution_count": 9,
   "id": "e74098d6-8cd9-45f5-9a1d-175d1efba1ed",
   "metadata": {},
   "outputs": [
    {
     "data": {
      "text/plain": [
       "(9704, 11)"
      ]
     },
     "execution_count": 9,
     "metadata": {},
     "output_type": "execute_result"
    }
   ],
   "source": [
    "df.shape"
   ]
  },
  {
   "cell_type": "raw",
   "id": "cf42581b-d486-419c-bbf1-c1b4fb04b667",
   "metadata": {},
   "source": [
    "9704 rows"
   ]
  },
  {
   "cell_type": "code",
   "execution_count": 14,
   "id": "e2e3c14d-f900-483a-82b9-43f32895d349",
   "metadata": {},
   "outputs": [
    {
     "data": {
      "text/plain": [
       "2"
      ]
     },
     "execution_count": 14,
     "metadata": {},
     "output_type": "execute_result"
    }
   ],
   "source": [
    "df.fuel_type.nunique()"
   ]
  },
  {
   "cell_type": "raw",
   "id": "c50aa908-f932-433b-849d-7484f018c2cf",
   "metadata": {},
   "source": [
    "2 fuel types"
   ]
  },
  {
   "cell_type": "code",
   "execution_count": 15,
   "id": "43539b22-d9d4-4b4d-b0c5-6e486951b837",
   "metadata": {},
   "outputs": [
    {
     "data": {
      "text/plain": [
       "engine_displacement      0\n",
       "num_cylinders          482\n",
       "horsepower             708\n",
       "vehicle_weight           0\n",
       "acceleration           930\n",
       "model_year               0\n",
       "origin                   0\n",
       "fuel_type                0\n",
       "drivetrain               0\n",
       "num_doors              502\n",
       "fuel_efficiency_mpg      0\n",
       "dtype: int64"
      ]
     },
     "execution_count": 15,
     "metadata": {},
     "output_type": "execute_result"
    }
   ],
   "source": [
    "df.isnull().sum()"
   ]
  },
  {
   "cell_type": "raw",
   "id": "8df253c8-76ff-4a50-a6a9-e779759e1ad7",
   "metadata": {},
   "source": [
    "4 columns with null values"
   ]
  },
  {
   "cell_type": "code",
   "execution_count": 21,
   "id": "3265ffe0-ad42-4234-bce3-8f786c6504a7",
   "metadata": {},
   "outputs": [
    {
     "data": {
      "text/plain": [
       "origin\n",
       "Asia      23.759123\n",
       "Europe    25.967222\n",
       "USA       24.971452\n",
       "Name: fuel_efficiency_mpg, dtype: float64"
      ]
     },
     "execution_count": 21,
     "metadata": {},
     "output_type": "execute_result"
    }
   ],
   "source": [
    "df.groupby('origin').fuel_efficiency_mpg.max()"
   ]
  },
  {
   "cell_type": "code",
   "execution_count": 22,
   "id": "89781109-ede1-41c6-9af7-73f5dd819078",
   "metadata": {},
   "outputs": [
    {
     "data": {
      "text/plain": [
       "count    3247.000000\n",
       "mean       14.973830\n",
       "std         2.578345\n",
       "min         6.886245\n",
       "25%        13.252010\n",
       "50%        15.034670\n",
       "75%        16.726318\n",
       "max        23.759123\n",
       "Name: fuel_efficiency_mpg, dtype: float64"
      ]
     },
     "execution_count": 22,
     "metadata": {},
     "output_type": "execute_result"
    }
   ],
   "source": [
    "df[df['origin'] == 'Asia'].fuel_efficiency_mpg.describe()"
   ]
  },
  {
   "cell_type": "raw",
   "id": "60c55466-f3b8-4f35-90d4-26ac1137c70b",
   "metadata": {},
   "source": [
    "Max fuel efficiency in Asian is 23.75"
   ]
  },
  {
   "cell_type": "code",
   "execution_count": 42,
   "id": "d83dc98e-7529-423a-a6c2-06e6f683576a",
   "metadata": {},
   "outputs": [
    {
     "data": {
      "text/plain": [
       "149.0"
      ]
     },
     "execution_count": 42,
     "metadata": {},
     "output_type": "execute_result"
    }
   ],
   "source": [
    "median_pre = df.horsepower.median()\n",
    "median_pre"
   ]
  },
  {
   "cell_type": "code",
   "execution_count": 52,
   "id": "2579c4ea-4c6c-43bf-a6d4-cdda7d24a054",
   "metadata": {},
   "outputs": [
    {
     "data": {
      "text/plain": [
       "146.0"
      ]
     },
     "execution_count": 52,
     "metadata": {},
     "output_type": "execute_result"
    }
   ],
   "source": [
    "max_count_hp = df.groupby('horsepower').horsepower.count().max()\n",
    "df2 = df['horsepower'].fillna(max_count_hp)\n",
    "median_post = df2.median()\n",
    "median_post"
   ]
  },
  {
   "cell_type": "raw",
   "id": "1329d47d-05ff-481a-a080-00e73c3363f2",
   "metadata": {},
   "source": [
    "Median went down from 149 to 146"
   ]
  },
  {
   "cell_type": "code",
   "execution_count": 25,
   "id": "6ababc56-b1c7-48c0-8cd1-2300e5f39457",
   "metadata": {},
   "outputs": [
    {
     "data": {
      "text/plain": [
       "array([[2714.21930965, 2016.        ],\n",
       "       [2783.86897424, 2010.        ],\n",
       "       [3582.68736772, 2007.        ],\n",
       "       [2231.8081416 , 2011.        ],\n",
       "       [2659.43145076, 2016.        ],\n",
       "       [2844.22753389, 2014.        ],\n",
       "       [3761.99403819, 2019.        ]])"
      ]
     },
     "execution_count": 25,
     "metadata": {},
     "output_type": "execute_result"
    }
   ],
   "source": [
    "df_asia = df[df['origin'] == 'Asia']\n",
    "df_asia = df_asia[['vehicle_weight', 'model_year']]\n",
    "x = df_asia.head(7).values\n",
    "x"
   ]
  },
  {
   "cell_type": "code",
   "execution_count": 33,
   "id": "82ea508c-7ef2-4e6f-9f32-7d8917bfaab7",
   "metadata": {},
   "outputs": [
    {
     "data": {
      "text/plain": [
       "array([[62248334.33150762, 41431216.5073268 ],\n",
       "       [41431216.5073268 , 28373339.        ]])"
      ]
     },
     "execution_count": 33,
     "metadata": {},
     "output_type": "execute_result"
    }
   ],
   "source": [
    "xtx = x.T.dot(x)\n",
    "xtx"
   ]
  },
  {
   "cell_type": "code",
   "execution_count": 34,
   "id": "698c4e12-e87f-41c3-9c00-a139a6974f7d",
   "metadata": {},
   "outputs": [
    {
     "data": {
      "text/plain": [
       "array([[ 5.71497081e-07, -8.34509443e-07],\n",
       "       [-8.34509443e-07,  1.25380877e-06]])"
      ]
     },
     "execution_count": 34,
     "metadata": {},
     "output_type": "execute_result"
    }
   ],
   "source": [
    "xtx_inv = np.linalg.inv(xtx)\n",
    "xtx_inv"
   ]
  },
  {
   "cell_type": "code",
   "execution_count": 31,
   "id": "cb95b255-a97b-4a27-9dc9-e85eaf50b4df",
   "metadata": {},
   "outputs": [
    {
     "data": {
      "text/plain": [
       "array([1100, 1300,  800,  900, 1000, 1100, 1200])"
      ]
     },
     "execution_count": 31,
     "metadata": {},
     "output_type": "execute_result"
    }
   ],
   "source": [
    "y = np.array([1100, 1300, 800, 900, 1000, 1100, 1200])\n",
    "y"
   ]
  },
  {
   "cell_type": "code",
   "execution_count": 37,
   "id": "0109629a-b24e-4949-9f96-93b26797b22d",
   "metadata": {},
   "outputs": [
    {
     "data": {
      "text/plain": [
       "array([0.01386421, 0.5049067 ])"
      ]
     },
     "execution_count": 37,
     "metadata": {},
     "output_type": "execute_result"
    }
   ],
   "source": [
    "w = xtx_inv.dot(x.T).dot(y)\n",
    "w"
   ]
  },
  {
   "cell_type": "code",
   "execution_count": 38,
   "id": "f97718d9-23d2-4fe5-ae5c-236f938ac48e",
   "metadata": {},
   "outputs": [
    {
     "data": {
      "text/plain": [
       "np.float64(0.5187709081074025)"
      ]
     },
     "execution_count": 38,
     "metadata": {},
     "output_type": "execute_result"
    }
   ],
   "source": [
    "w.sum()"
   ]
  },
  {
   "cell_type": "raw",
   "id": "934a81eb-1c19-40c3-a3c1-d3758f26aa65",
   "metadata": {},
   "source": [
    "w has value of 0.51"
   ]
  }
 ],
 "metadata": {
  "kernelspec": {
   "display_name": "Python 3 (ipykernel)",
   "language": "python",
   "name": "python3"
  },
  "language_info": {
   "codemirror_mode": {
    "name": "ipython",
    "version": 3
   },
   "file_extension": ".py",
   "mimetype": "text/x-python",
   "name": "python",
   "nbconvert_exporter": "python",
   "pygments_lexer": "ipython3",
   "version": "3.11.13"
  }
 },
 "nbformat": 4,
 "nbformat_minor": 5
}
