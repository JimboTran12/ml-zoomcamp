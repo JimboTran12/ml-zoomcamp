{
 "cells": [
  {
   "cell_type": "code",
   "execution_count": 20,
   "id": "d6439f32-9bf3-4a4e-9b0c-9aa17d67c7c8",
   "metadata": {},
   "outputs": [],
   "source": [
    "import pandas as pd\n",
    "import numpy as np"
   ]
  },
  {
   "cell_type": "code",
   "execution_count": 1,
   "id": "fe84a8fe-eaf8-4727-a270-7b0d0720c3ff",
   "metadata": {},
   "outputs": [
    {
     "name": "stdout",
     "output_type": "stream",
     "text": [
      "--2025-10-05 22:59:17--  https://raw.githubusercontent.com/alexeygrigorev/datasets/master/car_fuel_efficiency.csv\n",
      "Resolving raw.githubusercontent.com (raw.githubusercontent.com)... 2606:50c0:8001::154, 2606:50c0:8003::154, 2606:50c0:8002::154, ...\n",
      "Connecting to raw.githubusercontent.com (raw.githubusercontent.com)|2606:50c0:8001::154|:443... connected.\n",
      "HTTP request sent, awaiting response... 200 OK\n",
      "Length: 874188 (854K) [text/plain]\n",
      "Saving to: ‘car_fuel_efficiency.csv’\n",
      "\n",
      "car_fuel_efficiency 100%[===================>] 853.70K  5.09MB/s    in 0.2s    \n",
      "\n",
      "2025-10-05 22:59:18 (5.09 MB/s) - ‘car_fuel_efficiency.csv’ saved [874188/874188]\n",
      "\n"
     ]
    }
   ],
   "source": [
    "data = 'https://raw.githubusercontent.com/alexeygrigorev/datasets/master/car_fuel_efficiency.csv'\n",
    "!wget $data"
   ]
  },
  {
   "cell_type": "code",
   "execution_count": 100,
   "id": "ee6f6012-7de8-413b-91b1-db29ec348c07",
   "metadata": {},
   "outputs": [
    {
     "data": {
      "text/html": [
       "<div>\n",
       "<style scoped>\n",
       "    .dataframe tbody tr th:only-of-type {\n",
       "        vertical-align: middle;\n",
       "    }\n",
       "\n",
       "    .dataframe tbody tr th {\n",
       "        vertical-align: top;\n",
       "    }\n",
       "\n",
       "    .dataframe thead th {\n",
       "        text-align: right;\n",
       "    }\n",
       "</style>\n",
       "<table border=\"1\" class=\"dataframe\">\n",
       "  <thead>\n",
       "    <tr style=\"text-align: right;\">\n",
       "      <th></th>\n",
       "      <th>engine_displacement</th>\n",
       "      <th>horsepower</th>\n",
       "      <th>vehicle_weight</th>\n",
       "      <th>model_year</th>\n",
       "      <th>fuel_efficiency_mpg</th>\n",
       "    </tr>\n",
       "  </thead>\n",
       "  <tbody>\n",
       "    <tr>\n",
       "      <th>0</th>\n",
       "      <td>170</td>\n",
       "      <td>159.0</td>\n",
       "      <td>3413.433759</td>\n",
       "      <td>2003</td>\n",
       "      <td>13.231729</td>\n",
       "    </tr>\n",
       "    <tr>\n",
       "      <th>1</th>\n",
       "      <td>130</td>\n",
       "      <td>97.0</td>\n",
       "      <td>3149.664934</td>\n",
       "      <td>2007</td>\n",
       "      <td>13.688217</td>\n",
       "    </tr>\n",
       "    <tr>\n",
       "      <th>2</th>\n",
       "      <td>170</td>\n",
       "      <td>78.0</td>\n",
       "      <td>3079.038997</td>\n",
       "      <td>2018</td>\n",
       "      <td>14.246341</td>\n",
       "    </tr>\n",
       "    <tr>\n",
       "      <th>3</th>\n",
       "      <td>220</td>\n",
       "      <td>NaN</td>\n",
       "      <td>2542.392402</td>\n",
       "      <td>2009</td>\n",
       "      <td>16.912736</td>\n",
       "    </tr>\n",
       "    <tr>\n",
       "      <th>4</th>\n",
       "      <td>210</td>\n",
       "      <td>140.0</td>\n",
       "      <td>3460.870990</td>\n",
       "      <td>2009</td>\n",
       "      <td>12.488369</td>\n",
       "    </tr>\n",
       "    <tr>\n",
       "      <th>...</th>\n",
       "      <td>...</td>\n",
       "      <td>...</td>\n",
       "      <td>...</td>\n",
       "      <td>...</td>\n",
       "      <td>...</td>\n",
       "    </tr>\n",
       "    <tr>\n",
       "      <th>9699</th>\n",
       "      <td>140</td>\n",
       "      <td>164.0</td>\n",
       "      <td>2981.107371</td>\n",
       "      <td>2013</td>\n",
       "      <td>15.101802</td>\n",
       "    </tr>\n",
       "    <tr>\n",
       "      <th>9700</th>\n",
       "      <td>180</td>\n",
       "      <td>154.0</td>\n",
       "      <td>2439.525729</td>\n",
       "      <td>2004</td>\n",
       "      <td>17.962326</td>\n",
       "    </tr>\n",
       "    <tr>\n",
       "      <th>9701</th>\n",
       "      <td>220</td>\n",
       "      <td>138.0</td>\n",
       "      <td>2583.471318</td>\n",
       "      <td>2008</td>\n",
       "      <td>17.186587</td>\n",
       "    </tr>\n",
       "    <tr>\n",
       "      <th>9702</th>\n",
       "      <td>230</td>\n",
       "      <td>177.0</td>\n",
       "      <td>2905.527390</td>\n",
       "      <td>2011</td>\n",
       "      <td>15.331551</td>\n",
       "    </tr>\n",
       "    <tr>\n",
       "      <th>9703</th>\n",
       "      <td>270</td>\n",
       "      <td>140.0</td>\n",
       "      <td>2908.043477</td>\n",
       "      <td>2005</td>\n",
       "      <td>14.884467</td>\n",
       "    </tr>\n",
       "  </tbody>\n",
       "</table>\n",
       "<p>9704 rows × 5 columns</p>\n",
       "</div>"
      ],
      "text/plain": [
       "      engine_displacement  horsepower  vehicle_weight  model_year  \\\n",
       "0                     170       159.0     3413.433759        2003   \n",
       "1                     130        97.0     3149.664934        2007   \n",
       "2                     170        78.0     3079.038997        2018   \n",
       "3                     220         NaN     2542.392402        2009   \n",
       "4                     210       140.0     3460.870990        2009   \n",
       "...                   ...         ...             ...         ...   \n",
       "9699                  140       164.0     2981.107371        2013   \n",
       "9700                  180       154.0     2439.525729        2004   \n",
       "9701                  220       138.0     2583.471318        2008   \n",
       "9702                  230       177.0     2905.527390        2011   \n",
       "9703                  270       140.0     2908.043477        2005   \n",
       "\n",
       "      fuel_efficiency_mpg  \n",
       "0               13.231729  \n",
       "1               13.688217  \n",
       "2               14.246341  \n",
       "3               16.912736  \n",
       "4               12.488369  \n",
       "...                   ...  \n",
       "9699            15.101802  \n",
       "9700            17.962326  \n",
       "9701            17.186587  \n",
       "9702            15.331551  \n",
       "9703            14.884467  \n",
       "\n",
       "[9704 rows x 5 columns]"
      ]
     },
     "execution_count": 100,
     "metadata": {},
     "output_type": "execute_result"
    }
   ],
   "source": [
    "df = pd.read_csv('car_fuel_efficiency.csv')\n",
    "df = df[['engine_displacement', 'horsepower', 'vehicle_weight', 'model_year', 'fuel_efficiency_mpg']]\n",
    "df"
   ]
  },
  {
   "cell_type": "code",
   "execution_count": 15,
   "id": "e0cd3bd4-8779-43eb-9104-21971850acab",
   "metadata": {},
   "outputs": [
    {
     "data": {
      "text/plain": [
       "engine_displacement      0\n",
       "horsepower             708\n",
       "vehicle_weight           0\n",
       "model_year               0\n",
       "fuel_efficiency_mpg      0\n",
       "dtype: int64"
      ]
     },
     "execution_count": 15,
     "metadata": {},
     "output_type": "execute_result"
    }
   ],
   "source": [
    "df.isnull().sum()"
   ]
  },
  {
   "cell_type": "code",
   "execution_count": 16,
   "id": "947d4d4d-0cfd-45e5-9138-675b7a75bcac",
   "metadata": {},
   "outputs": [
    {
     "data": {
      "text/plain": [
       "149.0"
      ]
     },
     "execution_count": 16,
     "metadata": {},
     "output_type": "execute_result"
    }
   ],
   "source": [
    "df['horsepower'].median()"
   ]
  },
  {
   "cell_type": "code",
   "execution_count": 17,
   "id": "26b90c99-8074-4ab8-b814-0ebdebf3c46a",
   "metadata": {},
   "outputs": [
    {
     "data": {
      "text/plain": [
       "(9704, 1940, 1940, 5824, 9704)"
      ]
     },
     "execution_count": 17,
     "metadata": {},
     "output_type": "execute_result"
    }
   ],
   "source": [
    "n = len(df)\n",
    "n_val = int(n * 0.2)\n",
    "n_test = int(n * 0.2)\n",
    "n_train = n - n_val - n_test\n",
    "(n, n_val, n_test, n_train, n_val + n_test + n_train)"
   ]
  },
  {
   "cell_type": "code",
   "execution_count": 72,
   "id": "fcb03b70-a410-40f3-a3b3-295d8fbb3922",
   "metadata": {},
   "outputs": [],
   "source": [
    "def train_linear_regression(X, y):\n",
    "    ones = np.ones(X.shape[0])\n",
    "    X = np.column_stack([ones, X])\n",
    "\n",
    "    XTX = X.T.dot(X)\n",
    "    XTX_inv = np.linalg.inv(XTX)\n",
    "    w_full = XTX_inv.dot(X.T).dot(y)\n",
    "    \n",
    "    return w_full[0], w_full[1:]\n",
    "\n",
    "def rmse(y, y_pred):\n",
    "    se = (y - y_pred) ** 2\n",
    "    mse = se.mean()\n",
    "    return np.sqrt(mse)"
   ]
  },
  {
   "cell_type": "code",
   "execution_count": 50,
   "id": "b1be6198-45fd-434a-94f9-e6b89b275bf6",
   "metadata": {},
   "outputs": [],
   "source": [
    "idx = np.arange(n)\n",
    "np.random.seed(42)\n",
    "np.random.shuffle(idx)\n",
    "df_train = df.iloc[idx[:n_train]]\n",
    "df_val = df.iloc[idx[n_train:n_train+n_val]]\n",
    "df_test = df.iloc[idx[n_train+n_val:]]\n",
    "df_train = df_train.reset_index(drop=True)\n",
    "df_val = df_val.reset_index(drop=True)\n",
    "df_test = df_test.reset_index(drop=True)"
   ]
  },
  {
   "cell_type": "code",
   "execution_count": 59,
   "id": "f3620945-eb81-40ca-ac97-949a26ec7e69",
   "metadata": {},
   "outputs": [],
   "source": [
    "features = ['engine_displacement', 'horsepower', 'vehicle_weight', 'model_year']\n",
    "target = 'fuel_efficiency_mpg'\n",
    "hp_mean = df_train['horsepower'].mean()\n",
    "df_zero_train = df_train.copy().fillna(0)\n",
    "df_mean_train = df_train.copy().fillna(hp_mean)\n",
    "df_zero_val = df_val.copy().fillna(0)\n",
    "df_mean_val = df_val.copy().fillna(hp_mean)"
   ]
  },
  {
   "cell_type": "code",
   "execution_count": 61,
   "id": "ebebe3a5-d0d3-48fa-a6b9-5512c5c41f77",
   "metadata": {},
   "outputs": [],
   "source": [
    "X_zero_train = df_zero_train[features]\n",
    "X_mean_train = df_mean_train[features]\n",
    "X_zero_val = df_zero_val[features]\n",
    "X_mean_val = df_mean_val[features]\n",
    "y_train = df_train[target]\n",
    "y_val= df_val[target]"
   ]
  },
  {
   "cell_type": "code",
   "execution_count": 73,
   "id": "e67c213d-013d-464a-8999-e4c4728660e0",
   "metadata": {},
   "outputs": [],
   "source": [
    "w0_zero, w_zero = train_linear_regression(X_zero_train, y)\n",
    "w0_mean, w_mean = train_linear_regression(X_mean_train, y)\n",
    "\n",
    "y_zero_pred = w0_zero + X_zero_val.dot(w_zero)\n",
    "y_mean_pred = w0_mean + X_mean_val.dot(w_zero)"
   ]
  },
  {
   "cell_type": "code",
   "execution_count": 74,
   "id": "4c08704d-3278-4227-a27c-da9bcf2fd495",
   "metadata": {},
   "outputs": [
    {
     "name": "stdout",
     "output_type": "stream",
     "text": [
      "0.5173782638837691 0.5201474583067438\n"
     ]
    }
   ],
   "source": [
    "print(rmse(y_val, y_zero_pred), rmse(y_val, y_mean_pred))"
   ]
  },
  {
   "cell_type": "code",
   "execution_count": 77,
   "id": "12e10e54-b03e-43b5-ab01-35ea183dc628",
   "metadata": {},
   "outputs": [],
   "source": [
    "reg = [0, 0.01, 0.1, 1, 5, 10, 100]\n",
    "def train_linear_regression_reg(X, y, r):\n",
    "    ones = np.ones(X.shape[0])\n",
    "    X = np.column_stack([ones, X])\n",
    "\n",
    "    XTX = X.T.dot(X)\n",
    "    XTX = XTX + r * np.eye(XTX.shape[0])\n",
    "\n",
    "    XTX_inv = np.linalg.inv(XTX)\n",
    "    w_full = XTX_inv.dot(X.T).dot(y)\n",
    "    \n",
    "    return w_full[0], w_full[1:]"
   ]
  },
  {
   "cell_type": "code",
   "execution_count": 76,
   "id": "36a9e072-d794-4815-aa44-0c5f6eea5d16",
   "metadata": {},
   "outputs": [
    {
     "name": "stdout",
     "output_type": "stream",
     "text": [
      "r: 0, RMSE: 1.0\n",
      "r: 0.01, RMSE: 1.0\n",
      "r: 0.1, RMSE: 1.0\n",
      "r: 1, RMSE: 1.0\n",
      "r: 5, RMSE: 1.0\n",
      "r: 10, RMSE: 1.0\n",
      "r: 100, RMSE: 1.0\n",
      "0\n"
     ]
    }
   ],
   "source": [
    "rmse_dict = {}\n",
    "for r in reg:\n",
    "    w0, w = train_linear_regression_reg(X_zero_train, y_train, r)\n",
    "    y_pred = w0 + X_zero_val.dot(w)\n",
    "    err = round(rmse(y_val, y_pred), 0)\n",
    "    print(f\"r: {r}, RMSE: {err}\")\n",
    "    rmse_dict[r] = err\n",
    "\n",
    "print(min(rmse_dict, key=rmse_dict.get))"
   ]
  },
  {
   "cell_type": "code",
   "execution_count": 101,
   "id": "6500e943-e1b6-42a5-b836-90be8707d634",
   "metadata": {},
   "outputs": [
    {
     "data": {
      "text/plain": [
       "array([0.52065313, 0.52133889, 0.522807  , 0.51595167, 0.51091295,\n",
       "       0.52834065, 0.53139107, 0.50906704, 0.51473991, 0.51318659])"
      ]
     },
     "execution_count": 101,
     "metadata": {},
     "output_type": "execute_result"
    }
   ],
   "source": [
    "seeds = [0, 1, 2, 3, 4, 5, 6, 7, 8, 9]\n",
    "rmses = []\n",
    "for seed in seeds:\n",
    "    idxs = np.arange(n)\n",
    "    np.random.seed(seed)\n",
    "    np.random.shuffle(idxs)\n",
    "    df_trains = df.iloc[idxs[:n_train]].fillna(0)\n",
    "    df_vals = df.iloc[idxs[n_train:n_train+n_val]].fillna(0)\n",
    "    df_tests = df.iloc[idxs[n_train+n_val:]].fillna(0)\n",
    "    df_trains = df_trains.reset_index(drop=True)\n",
    "    df_vals = df_vals.reset_index(drop=True)\n",
    "    df_tests = df_tests.reset_index(drop=True)\n",
    "\n",
    "    X_trains = df_trains[features]\n",
    "    X_vals = df_vals[features]\n",
    "    y_trains = df_trains[target]\n",
    "    y_vals= df_vals[target]\n",
    "\n",
    "    w0s, ws = train_linear_regression_reg(X_trains, y_trains, 0)\n",
    "    y_preds = w0s + X_vals.dot(ws)\n",
    "    rmses.append(rmse(y_preds, y_vals))\n",
    "rmses = np.array(rmses)\n",
    "rmses"
   ]
  },
  {
   "cell_type": "code",
   "execution_count": 102,
   "id": "085497cc-6334-4861-8dba-dc1bb91bafd8",
   "metadata": {},
   "outputs": [
    {
     "data": {
      "text/plain": [
       "np.float64(0.007)"
      ]
     },
     "execution_count": 102,
     "metadata": {},
     "output_type": "execute_result"
    }
   ],
   "source": [
    "round(rmses.std(),3)"
   ]
  },
  {
   "cell_type": "code",
   "execution_count": 104,
   "id": "89f59738-96cf-4d9f-be28-b6aa2bc52098",
   "metadata": {},
   "outputs": [
    {
     "data": {
      "text/plain": [
       "np.float64(0.5158284328944308)"
      ]
     },
     "execution_count": 104,
     "metadata": {},
     "output_type": "execute_result"
    }
   ],
   "source": [
    "idxs = np.arange(n)\n",
    "np.random.seed(9)\n",
    "np.random.shuffle(idxs)\n",
    "df_full_trains = df.iloc[idxs[:n_train+n_val]].fillna(0)\n",
    "df_tests = df.iloc[idxs[n_train+n_val:]].fillna(0)\n",
    "df_full_trains = df_trains.reset_index(drop=True)\n",
    "df_tests = df_tests.reset_index(drop=True)\n",
    "X_full_trains = df_full_trains[features]\n",
    "X_tests = df_tests[features]\n",
    "y_full_trains = df_full_trains[target]\n",
    "y_tests= df_tests[target]\n",
    "w0s, ws = train_linear_regression_reg(X_full_trains, y_full_trains, 0)\n",
    "y_preds = w0s + X_tests.dot(ws)\n",
    "err = rmse(y_preds, y_tests)\n",
    "err\n",
    "\n"
   ]
  }
 ],
 "metadata": {
  "kernelspec": {
   "display_name": "Python 3 (ipykernel)",
   "language": "python",
   "name": "python3"
  },
  "language_info": {
   "codemirror_mode": {
    "name": "ipython",
    "version": 3
   },
   "file_extension": ".py",
   "mimetype": "text/x-python",
   "name": "python",
   "nbconvert_exporter": "python",
   "pygments_lexer": "ipython3",
   "version": "3.11.13"
  }
 },
 "nbformat": 4,
 "nbformat_minor": 5
}
